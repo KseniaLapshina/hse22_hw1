{
  "nbformat": 4,
  "nbformat_minor": 0,
  "metadata": {
    "colab": {
      "provenance": [],
      "authorship_tag": "ABX9TyPAhiIjbpInVNBKCmCecrHl",
      "include_colab_link": true
    },
    "kernelspec": {
      "name": "python3",
      "display_name": "Python 3"
    },
    "language_info": {
      "name": "python"
    }
  },
  "cells": [
    {
      "cell_type": "markdown",
      "metadata": {
        "id": "view-in-github",
        "colab_type": "text"
      },
      "source": [
        "<a href=\"https://colab.research.google.com/github/KseniaLapshina/hse22_hw1/blob/main/hse22_hw1.ipynb\" target=\"_parent\"><img src=\"https://colab.research.google.com/assets/colab-badge.svg\" alt=\"Open In Colab\"/></a>"
      ]
    },
    {
      "cell_type": "code",
      "execution_count": 25,
      "metadata": {
        "id": "HfJvpYoyMUPs"
      },
      "outputs": [],
      "source": [
        "def analysis(file):\n",
        "    t_num = 0\n",
        "    t_len = 0\n",
        "    lens = []\n",
        "    max_len = 0\n",
        "    max_seq = ''\n",
        "    file = open(file, 'r')\n",
        "    \n",
        "    cur_seq = ''\n",
        "    cur_len = 0\n",
        "    for line in file:\n",
        "        if (line[0] == '>'):\n",
        "            if t_num != 0:\n",
        "                lens.append(cur_len)\n",
        "            t_num += 1\n",
        "            if cur_len > max_len:\n",
        "                max_len = cur_len\n",
        "                max_seq = cur_seq\n",
        "            cur_seq = ''\n",
        "            cur_len = 0\n",
        "        else:\n",
        "            cur_seq += line.strip()\n",
        "            cur_len += len(line.strip())\n",
        "            t_len += len(line.strip())\n",
        "    lens.append(cur_len)\n",
        "    t_num += 1\n",
        "    if cur_len > max_len:\n",
        "        max_len = cur_len\n",
        "        max_seq = cur_seq\n",
        "    lens.sort(reverse = True)\n",
        "    len_sum = 0\n",
        "    n = 0\n",
        "    for l in lens:\n",
        "        len_sum += l\n",
        "        print\n",
        "        if len_sum >= t_len / 2:\n",
        "            n = l\n",
        "            break\n",
        "    return t_num, t_len, max_len, n, max_seq"
      ]
    },
    {
      "cell_type": "code",
      "source": [
        "a, b, c, d, e = analysis('Pxut_contig.fa')\n",
        "print(f'Общее количество контигов: {a}\\nОбщая длина: {b}\\nДлина самого длинного контига: {c}\\nN50 = {d}')"
      ],
      "metadata": {
        "colab": {
          "base_uri": "https://localhost:8080/"
        },
        "id": "l6cgsRt5S0wL",
        "outputId": "599fc127-8102-4255-bba1-e8928bf0c75b"
      },
      "execution_count": 26,
      "outputs": [
        {
          "output_type": "stream",
          "name": "stdout",
          "text": [
            "Общее количество контигов: 623\n",
            "Общая длина: 3926461\n",
            "Длина самого длинного контига: 179307\n",
            "N50 = 47993\n"
          ]
        }
      ]
    },
    {
      "cell_type": "code",
      "source": [
        "import re"
      ],
      "metadata": {
        "id": "tD4kf5sbnZWb"
      },
      "execution_count": null,
      "outputs": []
    },
    {
      "cell_type": "code",
      "source": [
        "f, g, h, i, j = analysis('Pxut_scaffold.fa')\n",
        "print(f'Общее количество скаффолдов: {f}\\nОбщая длина: {g}\\nДлина самого длинного скаффолда: {h}\\nN50 = {i}')\n",
        "print(f'Количество гэпов для самого длинного скаффолда: {len(re.findall(\"N+\", j))}\\nИх общая длина: {j.count(\"N\")}')"
      ],
      "metadata": {
        "colab": {
          "base_uri": "https://localhost:8080/"
        },
        "id": "_neM9d0lhX2a",
        "outputId": "b8d11f7f-9000-44bf-bb6b-2a5c2f9714d5"
      },
      "execution_count": 27,
      "outputs": [
        {
          "output_type": "stream",
          "name": "stdout",
          "text": [
            "Общее количество скаффолдов: 71\n",
            "Общая длина: 3876520\n",
            "Длина самого длинного скаффолда: 3832009\n",
            "N50 = 3832009\n",
            "Количество гэпов для самого длинного скаффолда: 62\n",
            "Их общая длина: 7084\n"
          ]
        }
      ]
    },
    {
      "cell_type": "code",
      "source": [
        "k, m, o, p, q = analysis('Pxut_gapClosed.fa')\n",
        "print(f'Результаты после gap_close\\nОбщее количество скаффолдов после : {k}\\nОбщая длина: {m}\\nДлина самого длинного скаффолда: {o}\\nN50 = {p}')\n",
        "print(f'Количество гэпов для самого длинного скаффолда: {len(re.findall(\"N+\", q))}\\nИх общая длина: {q.count(\"N\")}')"
      ],
      "metadata": {
        "colab": {
          "base_uri": "https://localhost:8080/"
        },
        "id": "cTrJ7m65jKxy",
        "outputId": "76870abf-c2f2-4e22-ccef-8982cd90dae1"
      },
      "execution_count": 28,
      "outputs": [
        {
          "output_type": "stream",
          "name": "stdout",
          "text": [
            "Результаты после gap_close\n",
            "Общее количество скаффолдов после : 71\n",
            "Общая длина: 3922417\n",
            "Длина самого длинного скаффолда: 3877541\n",
            "N50 = 3877541\n",
            "Количество гэпов для самого длинного скаффолда: 10\n",
            "Их общая длина: 2371\n"
          ]
        }
      ]
    }
  ]
}