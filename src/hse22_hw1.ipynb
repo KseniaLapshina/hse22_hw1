{
  "nbformat": 4,
  "nbformat_minor": 0,
  "metadata": {
    "colab": {
      "provenance": [],
      "authorship_tag": "ABX9TyNi6P7VzKlaZAePcJYExH/X",
      "include_colab_link": true
    },
    "kernelspec": {
      "name": "python3",
      "display_name": "Python 3"
    },
    "language_info": {
      "name": "python"
    }
  },
  "cells": [
    {
      "cell_type": "markdown",
      "metadata": {
        "id": "view-in-github",
        "colab_type": "text"
      },
      "source": [
        "<a href=\"https://colab.research.google.com/github/KseniaLapshina/hse22_hw1/blob/main/hse22_hw1.ipynb\" target=\"_parent\"><img src=\"https://colab.research.google.com/assets/colab-badge.svg\" alt=\"Open In Colab\"/></a>"
      ]
    },
    {
      "cell_type": "code",
      "execution_count": null,
      "metadata": {
        "id": "HfJvpYoyMUPs"
      },
      "outputs": [],
      "source": [
        "def analysis(file):\n",
        "    t_num = 0\n",
        "    t_len = 0\n",
        "    lens = []\n",
        "    max_len = 0\n",
        "    max_seq = ''\n",
        "    file = open(file, 'r')\n",
        "    \n",
        "    cur_seq = ''\n",
        "    cur_len = 0\n",
        "    for line in file:\n",
        "        if (line[0] == '>'):\n",
        "            if t_num != 0:\n",
        "                lens.append(cur_len)\n",
        "            t_num += 1\n",
        "            if cur_len > max_len:\n",
        "                max_len = cur_len\n",
        "                max_seq = cur_seq\n",
        "            cur_seq = ''\n",
        "            cur_len = 0\n",
        "        else:\n",
        "            cur_seq += line.strip()\n",
        "            cur_len += len(line.strip())\n",
        "            t_len += len(line.strip())\n",
        "    lens.append(cur_len)\n",
        "    t_num += 1\n",
        "    if cur_len > max_len:\n",
        "        max_len = cur_len\n",
        "        max_seq = cur_seq\n",
        "    lens.sort(reverse = True)\n",
        "    len_sum = 0\n",
        "    n = 0\n",
        "    for l in lens:\n",
        "        len_sum += l\n",
        "        print\n",
        "        if len_sum >= t_len / 2:\n",
        "            n = l\n",
        "            break\n",
        "    return t_num, t_len, max_len, n, max_seq"
      ]
    },
    {
      "cell_type": "code",
      "source": [
        "import re\n",
        "!pip install fastaparser\n",
        "import fastaparser as fst"
      ],
      "metadata": {
        "id": "tD4kf5sbnZWb",
        "colab": {
          "base_uri": "https://localhost:8080/"
        },
        "outputId": "ff3fde65-4c49-4d3f-baf5-8506e70dd363"
      },
      "execution_count": null,
      "outputs": [
        {
          "output_type": "stream",
          "name": "stdout",
          "text": [
            "Looking in indexes: https://pypi.org/simple, https://us-python.pkg.dev/colab-wheels/public/simple/\n",
            "Collecting fastaparser\n",
            "  Downloading fastaparser-1.1.1-py3-none-any.whl (29 kB)\n",
            "Installing collected packages: fastaparser\n",
            "Successfully installed fastaparser-1.1.1\n"
          ]
        }
      ]
    },
    {
      "cell_type": "code",
      "source": [
        "a, b, c, d, e = analysis('Pxut_contig.fa')\n",
        "print(f'Общее количество контигов: {a}\\nОбщая длина: {b}\\nДлина самого длинного контига: {c}\\nN50 = {d}')"
      ],
      "metadata": {
        "colab": {
          "base_uri": "https://localhost:8080/"
        },
        "id": "l6cgsRt5S0wL",
        "outputId": "27b36db1-0f06-4288-c352-64f2e69cca4f"
      },
      "execution_count": null,
      "outputs": [
        {
          "output_type": "stream",
          "name": "stdout",
          "text": [
            "Общее количество контигов: 623\n",
            "Общая длина: 3926461\n",
            "Длина самого длинного контига: 179307\n",
            "N50 = 47993\n"
          ]
        },
        {
          "output_type": "stream",
          "name": "stderr",
          "text": [
            "/usr/local/lib/python3.7/dist-packages/ipykernel_launcher.py:1: ResourceWarning: unclosed file <_io.TextIOWrapper name='Pxut_contig.fa' mode='r' encoding='UTF-8'>\n",
            "  \"\"\"Entry point for launching an IPython kernel.\n",
            "ResourceWarning: Enable tracemalloc to get the object allocation traceback\n"
          ]
        }
      ]
    },
    {
      "cell_type": "code",
      "source": [
        "f, g, h, i, j = analysis('Pxut_scaffold.fa')\n",
        "print(f'Общее количество скаффолдов: {f}\\nОбщая длина: {g}\\nДлина самого длинного скаффолда: {h}\\nN50 = {i}')\n",
        "print(f'Количество гэпов для самого длинного скаффолда: {len(re.findall(\"N+\", j))}\\nИх общая длина: {j.count(\"N\")}')"
      ],
      "metadata": {
        "colab": {
          "base_uri": "https://localhost:8080/"
        },
        "id": "_neM9d0lhX2a",
        "outputId": "90d0818f-08e8-4523-d248-361fca84cec4"
      },
      "execution_count": null,
      "outputs": [
        {
          "output_type": "stream",
          "name": "stdout",
          "text": [
            "Общее количество скаффолдов: 71\n",
            "Общая длина: 3876520\n",
            "Длина самого длинного скаффолда: 3832009\n",
            "N50 = 3832009\n",
            "Количество гэпов для самого длинного скаффолда: 62\n",
            "Их общая длина: 7084\n"
          ]
        },
        {
          "output_type": "stream",
          "name": "stderr",
          "text": [
            "/usr/local/lib/python3.7/dist-packages/ipykernel_launcher.py:1: ResourceWarning: unclosed file <_io.TextIOWrapper name='Pxut_scaffold.fa' mode='r' encoding='UTF-8'>\n",
            "  \"\"\"Entry point for launching an IPython kernel.\n",
            "ResourceWarning: Enable tracemalloc to get the object allocation traceback\n"
          ]
        }
      ]
    },
    {
      "cell_type": "code",
      "source": [
        "k, m, o, p, q = analysis('Pxut_gapClosed.fa')\n",
        "print(f'Результаты после gap_close\\nОбщее количество скаффолдов после : {k}\\nОбщая длина: {m}\\nДлина самого длинного скаффолда: {o}\\nN50 = {p}')\n",
        "print(f'Количество гэпов для самого длинного скаффолда: {len(re.findall(\"N+\", q))}\\nИх общая длина: {q.count(\"N\")}')"
      ],
      "metadata": {
        "colab": {
          "base_uri": "https://localhost:8080/"
        },
        "id": "cTrJ7m65jKxy",
        "outputId": "9b6ef0de-9a2d-450f-8c6a-e13554fd881b"
      },
      "execution_count": null,
      "outputs": [
        {
          "output_type": "stream",
          "name": "stdout",
          "text": [
            "Результаты после gap_close\n",
            "Общее количество скаффолдов после : 71\n",
            "Общая длина: 3922417\n",
            "Длина самого длинного скаффолда: 3877541\n",
            "N50 = 3877541\n",
            "Количество гэпов для самого длинного скаффолда: 10\n",
            "Их общая длина: 2371\n"
          ]
        },
        {
          "output_type": "stream",
          "name": "stderr",
          "text": [
            "/usr/local/lib/python3.7/dist-packages/ipykernel_launcher.py:1: ResourceWarning: unclosed file <_io.TextIOWrapper name='Pxut_gapClosed.fa' mode='r' encoding='UTF-8'>\n",
            "  \"\"\"Entry point for launching an IPython kernel.\n",
            "ResourceWarning: Enable tracemalloc to get the object allocation traceback\n"
          ]
        }
      ]
    },
    {
      "cell_type": "code",
      "source": [
        "with open(r\"longest.fasta\", 'w') as fasta_file:\n",
        "    writer = fst.Writer(fasta_file)\n",
        "    writer.writefasta(('>longest scaffold', q))"
      ],
      "metadata": {
        "id": "ZL3d4cgSrOoI"
      },
      "execution_count": null,
      "outputs": []
    },
    {
      "cell_type": "markdown",
      "source": [
        "# Бонусная часть."
      ],
      "metadata": {
        "id": "FSsc6kQ02I3h"
      }
    },
    {
      "cell_type": "markdown",
      "source": [
        "75%"
      ],
      "metadata": {
        "id": "cu_p9tE32UYJ"
      }
    },
    {
      "cell_type": "code",
      "source": [
        "asf, bsf, csf, dsf, esf = analysis('75_contig.fa')\n",
        "print(f'Общее количество контигов: {asf}\\nОбщая длина: {bsf}\\nДлина самого длинного контига: {csf}\\nN50 = {dsf}')"
      ],
      "metadata": {
        "id": "s-ikmX8n2ZYX",
        "colab": {
          "base_uri": "https://localhost:8080/"
        },
        "outputId": "4f19ce8f-b9a8-4c0e-fb75-c807b678ff2c"
      },
      "execution_count": null,
      "outputs": [
        {
          "output_type": "stream",
          "name": "stdout",
          "text": [
            "Общее количество контигов: 608\n",
            "Общая длина: 3921379\n",
            "Длина самого длинного контига: 193271\n",
            "N50 = 67085\n"
          ]
        },
        {
          "output_type": "stream",
          "name": "stderr",
          "text": [
            "/usr/local/lib/python3.7/dist-packages/ipykernel_launcher.py:1: ResourceWarning: unclosed file <_io.TextIOWrapper name='75_contig.fa' mode='r' encoding='UTF-8'>\n",
            "  \"\"\"Entry point for launching an IPython kernel.\n",
            "ResourceWarning: Enable tracemalloc to get the object allocation traceback\n"
          ]
        }
      ]
    },
    {
      "cell_type": "code",
      "source": [
        "fsf, gsf, hsf, isf, jsf = analysis('75_scaffold.fa')\n",
        "print(f'Общее количество скаффолдов: {fsf}\\nОбщая длина: {gsf}\\nДлина самого длинного скаффолда: {hsf}\\nN50 = {isf}')\n",
        "print(f'Количество гэпов для самого длинного скаффолда: {len(re.findall(\"N+\", jsf))}\\nИх общая длина: {jsf.count(\"N\")}')"
      ],
      "metadata": {
        "colab": {
          "base_uri": "https://localhost:8080/"
        },
        "id": "oInBAH9beJHX",
        "outputId": "dc7d4a4e-c4bc-496f-d299-b5a5587888c8"
      },
      "execution_count": null,
      "outputs": [
        {
          "output_type": "stream",
          "name": "stdout",
          "text": [
            "Общее количество скаффолдов: 75\n",
            "Общая длина: 3871808\n",
            "Длина самого длинного скаффолда: 2755389\n",
            "N50 = 2755389\n",
            "Количество гэпов для самого длинного скаффолда: 49\n",
            "Их общая длина: 4824\n"
          ]
        },
        {
          "output_type": "stream",
          "name": "stderr",
          "text": [
            "/usr/local/lib/python3.7/dist-packages/ipykernel_launcher.py:1: ResourceWarning: unclosed file <_io.TextIOWrapper name='75_scaffold.fa' mode='r' encoding='UTF-8'>\n",
            "  \"\"\"Entry point for launching an IPython kernel.\n",
            "ResourceWarning: Enable tracemalloc to get the object allocation traceback\n"
          ]
        }
      ]
    },
    {
      "cell_type": "code",
      "source": [
        "ksf, msf, osf, psf, qsf = analysis('75_gapClosed.fa')\n",
        "print(f'Результаты после gap_close\\nОбщее количество скаффолдов после : {ksf}\\nОбщая длина: {msf}\\nДлина самого длинного скаффолда: {osf}\\nN50 = {psf}')\n",
        "print(f'Количество гэпов для самого длинного скаффолда: {len(re.findall(\"N+\", qsf))}\\nИх общая длина: {qsf.count(\"N\")}')"
      ],
      "metadata": {
        "colab": {
          "base_uri": "https://localhost:8080/"
        },
        "id": "QIhxD4wYgqkB",
        "outputId": "67e2ca2a-0cf2-4561-a83e-736391c68a05"
      },
      "execution_count": null,
      "outputs": [
        {
          "output_type": "stream",
          "name": "stdout",
          "text": [
            "Результаты после gap_close\n",
            "Общее количество скаффолдов после : 75\n",
            "Общая длина: 3912190\n",
            "Длина самого длинного скаффолда: 2779349\n",
            "N50 = 2779349\n",
            "Количество гэпов для самого длинного скаффолда: 4\n",
            "Их общая длина: 1030\n"
          ]
        },
        {
          "output_type": "stream",
          "name": "stderr",
          "text": [
            "/usr/local/lib/python3.7/dist-packages/ipykernel_launcher.py:1: ResourceWarning: unclosed file <_io.TextIOWrapper name='75_gapClosed.fa' mode='r' encoding='UTF-8'>\n",
            "  \"\"\"Entry point for launching an IPython kernel.\n",
            "ResourceWarning: Enable tracemalloc to get the object allocation traceback\n"
          ]
        }
      ]
    },
    {
      "cell_type": "markdown",
      "source": [
        "50%"
      ],
      "metadata": {
        "id": "3Beuju-Vj-pp"
      }
    },
    {
      "cell_type": "code",
      "source": [
        "af, bf, cf, df, ef = analysis('50_contig.fa')\n",
        "print(f'Общее количество контигов: {af}\\nОбщая длина: {bf}\\nДлина самого длинного контига: {cf}\\nN50 = {df}')"
      ],
      "metadata": {
        "id": "IkcO6fa6pTjk",
        "colab": {
          "base_uri": "https://localhost:8080/"
        },
        "outputId": "b0a42514-2fe1-486b-bb97-5634b255aee0"
      },
      "execution_count": 12,
      "outputs": [
        {
          "output_type": "stream",
          "name": "stdout",
          "text": [
            "Общее количество контигов: 701\n",
            "Общая длина: 3923960\n",
            "Длина самого длинного контига: 225283\n",
            "N50 = 81322\n"
          ]
        },
        {
          "output_type": "stream",
          "name": "stderr",
          "text": [
            "/usr/local/lib/python3.7/dist-packages/ipykernel_launcher.py:1: ResourceWarning: unclosed file <_io.TextIOWrapper name='50_contig.fa' mode='r' encoding='UTF-8'>\n",
            "  \"\"\"Entry point for launching an IPython kernel.\n",
            "ResourceWarning: Enable tracemalloc to get the object allocation traceback\n"
          ]
        }
      ]
    },
    {
      "cell_type": "code",
      "source": [
        "ff, gf, hf, ift, jf = analysis('50_scaffold.fa')\n",
        "print(f'Общее количество скаффолдов: {ff}\\nОбщая длина: {gf}\\nДлина самого длинного скаффолда: {hf}\\nN50 = {ift}')\n",
        "print(f'Количество гэпов для самого длинного скаффолда: {len(re.findall(\"N+\", jf))}\\nИх общая длина: {jf.count(\"N\")}')"
      ],
      "metadata": {
        "id": "O_r3AoAwpdj4",
        "colab": {
          "base_uri": "https://localhost:8080/"
        },
        "outputId": "877b4b06-ce92-43b9-ab0c-7cb93e749a24"
      },
      "execution_count": 13,
      "outputs": [
        {
          "output_type": "stream",
          "name": "stdout",
          "text": [
            "Общее количество скаффолдов: 85\n",
            "Общая длина: 3865050\n",
            "Длина самого длинного скаффолда: 2929812\n",
            "N50 = 2929812\n",
            "Количество гэпов для самого длинного скаффолда: 56\n",
            "Их общая длина: 5965\n"
          ]
        },
        {
          "output_type": "stream",
          "name": "stderr",
          "text": [
            "/usr/local/lib/python3.7/dist-packages/ipykernel_launcher.py:1: ResourceWarning: unclosed file <_io.TextIOWrapper name='50_scaffold.fa' mode='r' encoding='UTF-8'>\n",
            "  \"\"\"Entry point for launching an IPython kernel.\n",
            "ResourceWarning: Enable tracemalloc to get the object allocation traceback\n"
          ]
        }
      ]
    },
    {
      "cell_type": "code",
      "source": [
        "kf, mf, of, pf, qf = analysis('50_gapClosed.fa')\n",
        "print(f'Результаты после gap_close\\nОбщее количество скаффолдов после : {kf}\\nОбщая длина: {mf}\\nДлина самого длинного скаффолда: {of}\\nN50 = {pf}')\n",
        "print(f'Количество гэпов для самого длинного скаффолда: {len(re.findall(\"N+\", qf))}\\nИх общая длина: {qf.count(\"N\")}')"
      ],
      "metadata": {
        "id": "au2K5wQdp7mN",
        "colab": {
          "base_uri": "https://localhost:8080/"
        },
        "outputId": "6525208f-2e97-4a57-8f96-818271158bc1"
      },
      "execution_count": 15,
      "outputs": [
        {
          "output_type": "stream",
          "name": "stdout",
          "text": [
            "Результаты после gap_close\n",
            "Общее количество скаффолдов после : 85\n",
            "Общая длина: 3883279\n",
            "Длина самого длинного скаффолда: 2943980\n",
            "N50 = 2943980\n",
            "Количество гэпов для самого длинного скаффолда: 14\n",
            "Их общая длина: 2380\n"
          ]
        },
        {
          "output_type": "stream",
          "name": "stderr",
          "text": [
            "/usr/local/lib/python3.7/dist-packages/ipykernel_launcher.py:1: ResourceWarning: unclosed file <_io.TextIOWrapper name='50_gapClosed.fa' mode='r' encoding='UTF-8'>\n",
            "  \"\"\"Entry point for launching an IPython kernel.\n",
            "ResourceWarning: Enable tracemalloc to get the object allocation traceback\n"
          ]
        }
      ]
    },
    {
      "cell_type": "markdown",
      "source": [
        "25%"
      ],
      "metadata": {
        "id": "JFZYWyz5vWmI"
      }
    },
    {
      "cell_type": "code",
      "source": [
        "atf, btf, ctf, dtf, etf = analysis('25_contig.fa')\n",
        "print(f'Общее количество контигов: {atf}\\nОбщая длина: {btf}\\nДлина самого длинного контига: {ctf}\\nN50 = {dtf}')"
      ],
      "metadata": {
        "colab": {
          "base_uri": "https://localhost:8080/"
        },
        "id": "W-6i5dI0vQKH",
        "outputId": "72271995-51dc-47e4-a59c-6cdf1f6fb60a"
      },
      "execution_count": 16,
      "outputs": [
        {
          "output_type": "stream",
          "name": "stdout",
          "text": [
            "Общее количество контигов: 965\n",
            "Общая длина: 3916245\n",
            "Длина самого длинного контига: 235065\n",
            "N50 = 75962\n"
          ]
        },
        {
          "output_type": "stream",
          "name": "stderr",
          "text": [
            "/usr/local/lib/python3.7/dist-packages/ipykernel_launcher.py:1: ResourceWarning: unclosed file <_io.TextIOWrapper name='25_contig.fa' mode='r' encoding='UTF-8'>\n",
            "  \"\"\"Entry point for launching an IPython kernel.\n",
            "ResourceWarning: Enable tracemalloc to get the object allocation traceback\n"
          ]
        }
      ]
    },
    {
      "cell_type": "code",
      "source": [
        "ftf, gtf, htf, itf, jtf = analysis('25_scaffold.fa')\n",
        "print(f'Общее количество скаффолдов: {ftf}\\nОбщая длина: {gtf}\\nДлина самого длинного скаффолда: {htf}\\nN50 = {itf}')\n",
        "print(f'Количество гэпов для самого длинного скаффолда: {len(re.findall(\"N+\", jtf))}\\nИх общая длина: {jtf.count(\"N\")}')"
      ],
      "metadata": {
        "colab": {
          "base_uri": "https://localhost:8080/"
        },
        "id": "Wxl1AaVjvhcK",
        "outputId": "928c7c9c-563b-4f4c-d6ce-fbc27a2a811b"
      },
      "execution_count": 17,
      "outputs": [
        {
          "output_type": "stream",
          "name": "stdout",
          "text": [
            "Общее количество скаффолдов: 124\n",
            "Общая длина: 3858186\n",
            "Длина самого длинного скаффолда: 2080526\n",
            "N50 = 2080526\n",
            "Количество гэпов для самого длинного скаффолда: 59\n",
            "Их общая длина: 6054\n"
          ]
        },
        {
          "output_type": "stream",
          "name": "stderr",
          "text": [
            "/usr/local/lib/python3.7/dist-packages/ipykernel_launcher.py:1: ResourceWarning: unclosed file <_io.TextIOWrapper name='25_scaffold.fa' mode='r' encoding='UTF-8'>\n",
            "  \"\"\"Entry point for launching an IPython kernel.\n",
            "ResourceWarning: Enable tracemalloc to get the object allocation traceback\n"
          ]
        }
      ]
    },
    {
      "cell_type": "code",
      "source": [
        "ktf, mtf, otf, ptf, qtf = analysis('25_gapClosed.fa')\n",
        "print(f'Результаты после gap_close\\nОбщее количество скаффолдов после : {ktf}\\nОбщая длина: {mtf}\\nДлина самого длинного скаффолда: {otf}\\nN50 = {ptf}')\n",
        "print(f'Количество гэпов для самого длинного скаффолда: {len(re.findall(\"N+\", qtf))}\\nИх общая длина: {qtf.count(\"N\")}')"
      ],
      "metadata": {
        "colab": {
          "base_uri": "https://localhost:8080/"
        },
        "id": "JsX8BbMavmyW",
        "outputId": "97824599-5676-4e8c-f5c4-66d80228409a"
      },
      "execution_count": 18,
      "outputs": [
        {
          "output_type": "stream",
          "name": "stdout",
          "text": [
            "Результаты после gap_close\n",
            "Общее количество скаффолдов после : 124\n",
            "Общая длина: 3866632\n",
            "Длина самого длинного скаффолда: 2086773\n",
            "N50 = 2086773\n",
            "Количество гэпов для самого длинного скаффолда: 23\n",
            "Их общая длина: 4433\n"
          ]
        },
        {
          "output_type": "stream",
          "name": "stderr",
          "text": [
            "/usr/local/lib/python3.7/dist-packages/ipykernel_launcher.py:1: ResourceWarning: unclosed file <_io.TextIOWrapper name='25_gapClosed.fa' mode='r' encoding='UTF-8'>\n",
            "  \"\"\"Entry point for launching an IPython kernel.\n",
            "ResourceWarning: Enable tracemalloc to get the object allocation traceback\n"
          ]
        }
      ]
    }
  ]
}
